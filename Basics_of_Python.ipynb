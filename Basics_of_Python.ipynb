{
  "nbformat": 4,
  "nbformat_minor": 0,
  "metadata": {
    "colab": {
      "private_outputs": true,
      "provenance": [],
      "authorship_tag": "ABX9TyNkpiqY1Uy56M9DuoQetrYz",
      "include_colab_link": true
    },
    "kernelspec": {
      "name": "python3",
      "display_name": "Python 3"
    },
    "language_info": {
      "name": "python"
    }
  },
  "cells": [
    {
      "cell_type": "markdown",
      "metadata": {
        "id": "view-in-github",
        "colab_type": "text"
      },
      "source": [
        "<a href=\"https://colab.research.google.com/github/vaisshnavee1410/Basics-Of-Python.ipynb/blob/main/Basics_of_Python.ipynb\" target=\"_parent\"><img src=\"https://colab.research.google.com/assets/colab-badge.svg\" alt=\"Open In Colab\"/></a>"
      ]
    },
    {
      "cell_type": "markdown",
      "source": [
        "###EXERCISE 1: Prime Numbers"
      ],
      "metadata": {
        "id": "9DNuJ1z0yqSJ"
      }
    },
    {
      "cell_type": "markdown",
      "source": [
        "* Write a Python program that checks whether a given number is prime or not. A prime number is\n",
        "a natural number greater than 1 that has no positive divisors other than 1 and itself.\n",
        "\n"
      ],
      "metadata": {
        "id": "GP-H-0pqzvZL"
      }
    },
    {
      "cell_type": "code",
      "source": [
        "def is_prime(n):\n",
        "    \"\"\"Check if a number is prime.\"\"\"\n",
        "    if n <= 1:\n",
        "        return False  # Prime numbers must be greater than 1\n",
        "    for i in range(2, int(n ** 0.5) + 1):\n",
        "        if n % i == 0:\n",
        "            return False\n",
        "    return True\n",
        "\n",
        "# Get user input\n",
        "num = int(input(\"Enter a number: \"))\n",
        "\n",
        "# Check and display the result\n",
        "if is_prime(num):\n",
        "    print(f\"{num} is a prime number.\")\n",
        "else:\n",
        "    print(f\"{num} is not a prime number.\")"
      ],
      "metadata": {
        "id": "3oV1QuS7AOR4"
      },
      "execution_count": null,
      "outputs": []
    },
    {
      "cell_type": "markdown",
      "source": [
        "###EXERCISE 2: Product of Random Numbers"
      ],
      "metadata": {
        "id": "Bhtn6DAIznZU"
      }
    },
    {
      "cell_type": "markdown",
      "source": [
        "* Develop a Python program that generates two random numbers and asks the user to enter the\n",
        "product of these numbers. The program should then check if the user's answer is correct and\n",
        "display an appropriate message."
      ],
      "metadata": {
        "id": "ybre6_SY5CvB"
      }
    },
    {
      "cell_type": "code",
      "source": [
        "import random"
      ],
      "metadata": {
        "id": "rV9VRtDhqt9R"
      },
      "execution_count": null,
      "outputs": []
    },
    {
      "cell_type": "code",
      "source": [
        "# Generate two random numbers\n",
        "num1 = random.randint(3, 10)\n",
        "num2 = random.randint(1, 7)\n"
      ],
      "metadata": {
        "id": "LIOkPOy67jHm"
      },
      "execution_count": null,
      "outputs": []
    },
    {
      "cell_type": "code",
      "source": [
        "#Calculate the correct product\n",
        "correct_answer = num1 * num2"
      ],
      "metadata": {
        "id": "KUSWfxNY7CWq"
      },
      "execution_count": null,
      "outputs": []
    },
    {
      "cell_type": "code",
      "source": [
        "# Ask the user to enter the product\n",
        "user_answer = int(input(f\"What is {num1} × {num2}? \"))\n"
      ],
      "metadata": {
        "id": "E1dm0BOr7T_n"
      },
      "execution_count": null,
      "outputs": []
    },
    {
      "cell_type": "code",
      "source": [
        "# Check the user's answer\n",
        "if user_answer == correct_answer:\n",
        "    print(\"Correct! Well done.\")\n",
        "else:\n",
        "    print(f\"Incorrect. The correct answer is {correct_answer}.\")"
      ],
      "metadata": {
        "id": "JvDIBa447W1E"
      },
      "execution_count": null,
      "outputs": []
    },
    {
      "cell_type": "markdown",
      "source": [
        "###EXERCISE 3: Squares of Even/Odd Numbers"
      ],
      "metadata": {
        "id": "pFePohwA6YXb"
      }
    },
    {
      "cell_type": "markdown",
      "source": [
        "* Create a Python script that prints the squares of all even or odd numbers within the range of 100\n",
        "to 200. Choose either even or odd numbers and document your choice in the code."
      ],
      "metadata": {
        "id": "ZuG_Hdnt5io6"
      }
    },
    {
      "cell_type": "code",
      "source": [
        "# Squares of all even numbers within the range of 100 to 200.\n",
        "\n",
        "for num in range(100, 201):\n",
        "    if num % 2 == 0:\n",
        "        print(f\"{num}² = {num**2}\")"
      ],
      "metadata": {
        "id": "OLa2gZKi7Elq"
      },
      "execution_count": null,
      "outputs": []
    },
    {
      "cell_type": "markdown",
      "source": [
        "###EXERCISE 4: Word Counter"
      ],
      "metadata": {
        "id": "IxO2EXeZA5yz"
      }
    },
    {
      "cell_type": "markdown",
      "source": [
        "* Write a program to count the number of words in a given text.\n",
        "example:\n",
        "input_text = \"This is a sample text. This text will be used to demonstrate the word counter.\"\n",
        "Expected output:\n",
        "\n",
        " 'This': 2\n",
        "\n",
        " 'is': 1\n",
        "\n",
        " 'a': 1\n",
        "\n",
        " 'sample': 1\n",
        "\n",
        " 'text.': 1"
      ],
      "metadata": {
        "id": "uxxBI7Dw_q3E"
      }
    },
    {
      "cell_type": "code",
      "source": [
        "from collections import Counter\n",
        "\n",
        "def count_words(input_text):\n",
        "    # Split the text into words using spaces\n",
        "    words = input_text.split()\n",
        "\n",
        "    # Use Counter to count word occurrences\n",
        "    word_counts = Counter(words)\n",
        "\n",
        "    # Print the word count in the required format\n",
        "    for word, count in word_counts.items():\n",
        "        print(f\"'{word}': {count}\")\n",
        "\n",
        "# Example usage\n",
        "input_text = \"This is a sample text. This text will be used to demonstrate the word counter.\"\n",
        "count_words(input_text)"
      ],
      "metadata": {
        "id": "os9o9XvxBCax"
      },
      "execution_count": null,
      "outputs": []
    },
    {
      "cell_type": "markdown",
      "source": [
        "###EXERCISE 5: Check for Palindrome"
      ],
      "metadata": {
        "id": "dWgArVCvBei8"
      }
    },
    {
      "cell_type": "markdown",
      "source": [
        "* Write a Python function called is_palindrome that takes a string as input and returns True if the\n",
        "string is a palindrome, and False otherwise. A palindrome is a word, phrase, number, or other\n",
        "sequence of characters that reads the same forward and backward, ignoring spaces, punctuation,\n",
        "and capitalization.\n",
        "\n",
        " Example:\n",
        "Input: \"racecar\"\n",
        "\n",
        " Expected Output: True"
      ],
      "metadata": {
        "id": "x5OzL6_eFF5r"
      }
    },
    {
      "cell_type": "code",
      "source": [
        "def is_palindrome(s: str) -> bool:\n",
        "    s = s.lower()\n",
        "    return s == s[::-1]\n",
        "\n",
        "# Example:\n",
        "print(is_palindrome(\"racecar\"))\n",
        "print(is_palindrome(\"A girl, A plane, twenty\"))\n",
        "print(is_palindrome(\"hello\"))\n",
        "print(is_palindrome(\"madam\"))\n",
        "print(is_palindrome(\"level\"))"
      ],
      "metadata": {
        "id": "FZG7li03IL5K"
      },
      "execution_count": null,
      "outputs": []
    }
  ]
}